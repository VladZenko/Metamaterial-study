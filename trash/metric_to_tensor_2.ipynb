{
 "cells": [
  {
   "cell_type": "markdown",
   "metadata": {},
   "source": [
    "# With metric provided, get the cartesian permittivity tensor"
   ]
  },
  {
   "cell_type": "code",
   "execution_count": 1,
   "metadata": {},
   "outputs": [],
   "source": [
    "import sympy as sp\n",
    "from IPython.display import Math"
   ]
  },
  {
   "cell_type": "code",
   "execution_count": 2,
   "metadata": {},
   "outputs": [],
   "source": [
    "r= sp.symbols('r', real=True, positive=True)\n",
    "theta= sp.symbols('theta', real=True)\n",
    "x, y, z = sp.symbols('x y z', real=True)\n",
    "M = sp.symbols('M')"
   ]
  },
  {
   "cell_type": "code",
   "execution_count": 3,
   "metadata": {},
   "outputs": [
    {
     "data": {
      "text/latex": [
       "$\\displaystyle [g_{ij}] = \\left[\\begin{matrix}\\frac{1}{- \\frac{M}{r} + 1} & 0 & 0\\\\0 & r^{2} & 0\\\\0 & 0 & r^{2} \\sin{\\left(\\theta \\right)}\\end{matrix}\\right]$"
      ],
      "text/plain": [
       "<IPython.core.display.Math object>"
      ]
     },
     "metadata": {},
     "output_type": "display_data"
    },
    {
     "data": {
      "text/latex": [
       "$\\displaystyle [g^{ij}] = \\left[\\begin{matrix}- \\frac{M}{r} + 1 & 0 & 0\\\\0 & \\frac{1}{r^{2}} & 0\\\\0 & 0 & \\frac{1}{r^{2} \\sin{\\left(\\theta \\right)}}\\end{matrix}\\right]$"
      ],
      "text/plain": [
       "<IPython.core.display.Math object>"
      ]
     },
     "metadata": {},
     "output_type": "display_data"
    }
   ],
   "source": [
    "g_ij_sph = sp.Matrix([[1/(1-(M/r)), 0, 0],\n",
    "                       [0, r**2, 0],\n",
    "                       [0, 0, r**2 * sp.sin(theta)]])\n",
    "\n",
    "gij_sph = g_ij_sph.inv()\n",
    "\n",
    "\n",
    "display(Math(r'[g_{ij}] = '+ sp.latex(g_ij_sph)))\n",
    "display(Math(r'[g^{ij}] = '+ sp.latex(gij_sph)))\n"
   ]
  },
  {
   "cell_type": "markdown",
   "metadata": {},
   "source": [
    "# Have metric in sphericals, need to convert to cartesian"
   ]
  },
  {
   "cell_type": "markdown",
   "metadata": {},
   "source": [
    "$\\delta^{ij} = \\frac{\\partial x^{i'}}{\\partial x^{i}} \\frac{\\partial x^{j'}}{\\partial x^{j}} g_{i'j'}$"
   ]
  },
  {
   "attachments": {},
   "cell_type": "markdown",
   "metadata": {},
   "source": [
    "$\\delta^{00} = \\left(\\frac{\\partial r}{\\partial x}\\right)^2 g_{00} + \\left(\\frac{\\partial \\theta}{\\partial x}\\right)^2 g_{11} + \\left(\\frac{\\partial \\phi}{\\partial x}\\right)^2 g_{22}$\n"
   ]
  },
  {
   "attachments": {},
   "cell_type": "markdown",
   "metadata": {},
   "source": [
    "$\\delta^{01} = \\frac{\\partial r}{\\partial x} \\frac{\\partial r}{\\partial y} g_{00} + \\frac{\\partial \\theta}{\\partial x} \\frac{\\partial \\theta}{\\partial y} g_{11} + \\frac{\\partial \\phi}{\\partial x} \\frac{\\partial \\phi}{\\partial y} g_{22}$"
   ]
  },
  {
   "attachments": {},
   "cell_type": "markdown",
   "metadata": {},
   "source": [
    "$\\delta^{02} = \\frac{\\partial r}{\\partial x} \\frac{\\partial r}{\\partial z} g_{00} + \\frac{\\partial \\theta}{\\partial x} \\frac{\\partial \\theta}{\\partial z} g_{11} + \\frac{\\partial \\phi}{\\partial x} \\frac{\\partial \\phi}{\\partial z} g_{22}$"
   ]
  },
  {
   "attachments": {},
   "cell_type": "markdown",
   "metadata": {},
   "source": [
    "$\\delta^{10} = \\frac{\\partial r}{\\partial y} \\frac{\\partial r}{\\partial x} g_{00} + \\frac{\\partial \\theta}{\\partial y} \\frac{\\partial \\theta}{\\partial x} g_{11} + \\frac{\\partial \\phi}{\\partial y} \\frac{\\partial \\phi}{\\partial x} g_{22}$"
   ]
  },
  {
   "attachments": {},
   "cell_type": "markdown",
   "metadata": {},
   "source": [
    "$\\delta^{11} = \\left(\\frac{\\partial r}{\\partial y}\\right)^2 g_{00} + \\left(\\frac{\\partial \\theta}{\\partial y}\\right)^2 g_{11} + \\left(\\frac{\\partial \\phi}{\\partial y}\\right)^2 g_{22}$\n"
   ]
  },
  {
   "attachments": {},
   "cell_type": "markdown",
   "metadata": {},
   "source": [
    "$\\delta^{12} = \\frac{\\partial r}{\\partial y} \\frac{\\partial r}{\\partial z} g_{00} + \\frac{\\partial \\theta}{\\partial y} \\frac{\\partial \\theta}{\\partial z} g_{11} + \\frac{\\partial \\phi}{\\partial y} \\frac{\\partial \\phi}{\\partial z} g_{22}$"
   ]
  },
  {
   "attachments": {},
   "cell_type": "markdown",
   "metadata": {},
   "source": [
    "$\\delta^{20} = \\frac{\\partial r}{\\partial z} \\frac{\\partial r}{\\partial x} g_{00} + \\frac{\\partial \\theta}{\\partial z} \\frac{\\partial \\theta}{\\partial x} g_{11} + \\frac{\\partial \\phi}{\\partial z} \\frac{\\partial \\phi}{\\partial x} g_{22}$"
   ]
  },
  {
   "attachments": {},
   "cell_type": "markdown",
   "metadata": {},
   "source": [
    "$\\delta^{21} = \\frac{\\partial r}{\\partial z} \\frac{\\partial r}{\\partial y} g_{00} + \\frac{\\partial \\theta}{\\partial z} \\frac{\\partial \\theta}{\\partial y} g_{11} + \\frac{\\partial \\phi}{\\partial z} \\frac{\\partial \\phi}{\\partial y} g_{22}$"
   ]
  },
  {
   "attachments": {},
   "cell_type": "markdown",
   "metadata": {},
   "source": [
    "$\\delta^{22} = \\left(\\frac{\\partial r}{\\partial z}\\right)^2 g_{00} + \\left(\\frac{\\partial \\theta}{\\partial z}\\right)^2 g_{11} + \\left(\\frac{\\partial \\phi}{\\partial z}\\right)^2 g_{22}$\n"
   ]
  },
  {
   "cell_type": "code",
   "execution_count": 4,
   "metadata": {},
   "outputs": [],
   "source": [
    "r_cart = (x**2+y**2)**0.5\n",
    "theta_cart = sp.atan2(y,x)\n",
    "phi_cart = z\n",
    "\n",
    "g_ij_sph_cart = g_ij_sph.subs(r, r_cart)\n",
    "g_ij_sph_cart = g_ij_sph_cart.subs(theta, theta_cart)"
   ]
  },
  {
   "cell_type": "code",
   "execution_count": 5,
   "metadata": {},
   "outputs": [
    {
     "data": {
      "text/latex": [
       "$\\displaystyle \\frac{- 1.0 x^{2} \\left(x^{2} + y^{2}\\right)^{1.0} + y^{2} \\left(M - \\left(x^{2} + y^{2}\\right)^{0.5}\\right) \\left(x^{2} + y^{2}\\right)^{0.5}}{\\left(M - \\left(x^{2} + y^{2}\\right)^{0.5}\\right) \\left(x^{2} + y^{2}\\right)^{1.5}}$"
      ],
      "text/plain": [
       "(-1.0*x**2*(x**2 + y**2)**1.0 + y**2*(M - (x**2 + y**2)**0.5)*(x**2 + y**2)**0.5)/((M - (x**2 + y**2)**0.5)*(x**2 + y**2)**1.5)"
      ]
     },
     "execution_count": 5,
     "metadata": {},
     "output_type": "execute_result"
    }
   ],
   "source": [
    "g00 = sp.simplify(sp.diff(r_cart, x)*sp.diff(r_cart, x)*g_ij_sph_cart[0,0] \n",
    "                  + sp.diff(theta_cart, x)*sp.diff(theta_cart, x)*g_ij_sph_cart[1,1]\n",
    "                  + sp.diff(phi_cart, x)*sp.diff(phi_cart, x)*g_ij_sph_cart[2,2])\n",
    "g00"
   ]
  },
  {
   "cell_type": "code",
   "execution_count": 6,
   "metadata": {},
   "outputs": [
    {
     "data": {
      "text/latex": [
       "$\\displaystyle - \\frac{M x y \\left(x^{2} + y^{2}\\right)^{0.5}}{M \\left(x^{2} + y^{2}\\right)^{1.5} - \\left(x^{2} + y^{2}\\right)^{2.0}}$"
      ],
      "text/plain": [
       "-M*x*y*(x**2 + y**2)**0.5/(M*(x**2 + y**2)**1.5 - (x**2 + y**2)**2.0)"
      ]
     },
     "execution_count": 6,
     "metadata": {},
     "output_type": "execute_result"
    }
   ],
   "source": [
    "g01 = sp.simplify(sp.diff(r_cart, x)*sp.diff(r_cart, y)*g_ij_sph_cart[0,0] \n",
    "                  + sp.diff(theta_cart, x)*sp.diff(theta_cart, y)*g_ij_sph_cart[1,1]\n",
    "                  + sp.diff(phi_cart, x)*sp.diff(phi_cart, y)*g_ij_sph_cart[2,2])\n",
    "g01"
   ]
  },
  {
   "cell_type": "code",
   "execution_count": 7,
   "metadata": {},
   "outputs": [
    {
     "data": {
      "text/latex": [
       "$\\displaystyle 0$"
      ],
      "text/plain": [
       "0"
      ]
     },
     "execution_count": 7,
     "metadata": {},
     "output_type": "execute_result"
    }
   ],
   "source": [
    "g02 = sp.simplify(sp.diff(r_cart, x)*sp.diff(r_cart, z)*g_ij_sph_cart[0,0] \n",
    "                  + sp.diff(theta_cart, x)*sp.diff(theta_cart, z)*g_ij_sph_cart[1,1]\n",
    "                  + sp.diff(phi_cart, x)*sp.diff(phi_cart, z)*g_ij_sph_cart[2,2])\n",
    "g02"
   ]
  },
  {
   "cell_type": "code",
   "execution_count": 8,
   "metadata": {},
   "outputs": [
    {
     "data": {
      "text/latex": [
       "$\\displaystyle - \\frac{M x y \\left(x^{2} + y^{2}\\right)^{0.5}}{M \\left(x^{2} + y^{2}\\right)^{1.5} - \\left(x^{2} + y^{2}\\right)^{2.0}}$"
      ],
      "text/plain": [
       "-M*x*y*(x**2 + y**2)**0.5/(M*(x**2 + y**2)**1.5 - (x**2 + y**2)**2.0)"
      ]
     },
     "execution_count": 8,
     "metadata": {},
     "output_type": "execute_result"
    }
   ],
   "source": [
    "g10 = sp.simplify(sp.diff(r_cart, y)*sp.diff(r_cart, x)*g_ij_sph_cart[0,0] \n",
    "                  + sp.diff(theta_cart, y)*sp.diff(theta_cart, x)*g_ij_sph_cart[1,1]\n",
    "                  + sp.diff(phi_cart, y)*sp.diff(phi_cart, x)*g_ij_sph_cart[2,2])\n",
    "g10"
   ]
  },
  {
   "cell_type": "code",
   "execution_count": 9,
   "metadata": {},
   "outputs": [
    {
     "data": {
      "text/latex": [
       "$\\displaystyle \\frac{x^{2} \\left(M - \\left(x^{2} + y^{2}\\right)^{0.5}\\right) \\left(x^{2} + y^{2}\\right)^{0.5} - 1.0 y^{2} \\left(x^{2} + y^{2}\\right)^{1.0}}{\\left(M - \\left(x^{2} + y^{2}\\right)^{0.5}\\right) \\left(x^{2} + y^{2}\\right)^{1.5}}$"
      ],
      "text/plain": [
       "(x**2*(M - (x**2 + y**2)**0.5)*(x**2 + y**2)**0.5 - 1.0*y**2*(x**2 + y**2)**1.0)/((M - (x**2 + y**2)**0.5)*(x**2 + y**2)**1.5)"
      ]
     },
     "execution_count": 9,
     "metadata": {},
     "output_type": "execute_result"
    }
   ],
   "source": [
    "g11 = sp.simplify(sp.diff(r_cart, y)*sp.diff(r_cart, y)*g_ij_sph_cart[0,0] \n",
    "                  + sp.diff(theta_cart, y)*sp.diff(theta_cart, y)*g_ij_sph_cart[1,1]\n",
    "                  + sp.diff(phi_cart, y)*sp.diff(phi_cart, y)*g_ij_sph_cart[2,2])\n",
    "g11"
   ]
  },
  {
   "cell_type": "code",
   "execution_count": 10,
   "metadata": {},
   "outputs": [
    {
     "data": {
      "text/latex": [
       "$\\displaystyle 0$"
      ],
      "text/plain": [
       "0"
      ]
     },
     "execution_count": 10,
     "metadata": {},
     "output_type": "execute_result"
    }
   ],
   "source": [
    "g12 = sp.simplify(sp.diff(r_cart, y)*sp.diff(r_cart, z)*g_ij_sph_cart[0,0] \n",
    "                  + sp.diff(theta_cart, y)*sp.diff(theta_cart, z)*g_ij_sph_cart[1,1]\n",
    "                  + sp.diff(phi_cart, y)*sp.diff(phi_cart, z)*g_ij_sph_cart[2,2])\n",
    "g12"
   ]
  },
  {
   "cell_type": "code",
   "execution_count": 11,
   "metadata": {},
   "outputs": [
    {
     "data": {
      "text/latex": [
       "$\\displaystyle 0$"
      ],
      "text/plain": [
       "0"
      ]
     },
     "execution_count": 11,
     "metadata": {},
     "output_type": "execute_result"
    }
   ],
   "source": [
    "g20 = sp.simplify(sp.diff(r_cart, z)*sp.diff(r_cart, x)*g_ij_sph_cart[0,0] \n",
    "                  + sp.diff(theta_cart, z)*sp.diff(theta_cart, x)*g_ij_sph_cart[1,1]\n",
    "                  + sp.diff(phi_cart, z)*sp.diff(phi_cart, x)*g_ij_sph_cart[2,2])\n",
    "g20"
   ]
  },
  {
   "cell_type": "code",
   "execution_count": 12,
   "metadata": {},
   "outputs": [
    {
     "data": {
      "text/latex": [
       "$\\displaystyle 0$"
      ],
      "text/plain": [
       "0"
      ]
     },
     "execution_count": 12,
     "metadata": {},
     "output_type": "execute_result"
    }
   ],
   "source": [
    "g21 = sp.simplify(sp.diff(r_cart, z)*sp.diff(r_cart, y)*g_ij_sph_cart[0,0] \n",
    "                  + sp.diff(theta_cart, z)*sp.diff(theta_cart, y)*g_ij_sph_cart[1,1]\n",
    "                  + sp.diff(phi_cart, z)*sp.diff(phi_cart, y)*g_ij_sph_cart[2,2])\n",
    "g21"
   ]
  },
  {
   "cell_type": "code",
   "execution_count": 13,
   "metadata": {},
   "outputs": [
    {
     "data": {
      "text/latex": [
       "$\\displaystyle y \\left(x^{2} + y^{2}\\right)^{0.5}$"
      ],
      "text/plain": [
       "y*(x**2 + y**2)**0.5"
      ]
     },
     "execution_count": 13,
     "metadata": {},
     "output_type": "execute_result"
    }
   ],
   "source": [
    "g22 = sp.simplify(sp.diff(r_cart, z)*sp.diff(r_cart, z)*g_ij_sph_cart[0,0] \n",
    "                  + sp.diff(theta_cart, z)*sp.diff(theta_cart, z)*g_ij_sph_cart[1,1]\n",
    "                  + sp.diff(phi_cart, z)*sp.diff(phi_cart, z)*g_ij_sph_cart[2,2])\n",
    "g22"
   ]
  },
  {
   "cell_type": "code",
   "execution_count": 14,
   "metadata": {},
   "outputs": [],
   "source": [
    "gij = sp.Matrix([[g00, g01, g02],\n",
    "                 [g10, g11, g12],\n",
    "                 [g20, g21, g22]])"
   ]
  },
  {
   "cell_type": "code",
   "execution_count": 15,
   "metadata": {},
   "outputs": [],
   "source": [
    "d1 = sp.det(sp.Matrix([[g11, g12],\n",
    "                       [g21, g22]]))\n",
    "\n",
    "d2 = sp.det(sp.Matrix([[g10, g12],\n",
    "                       [g20, g22]]))\n",
    "\n",
    "d3 = sp.det(sp.Matrix([[g10, g11],\n",
    "                       [g20, g21]]))"
   ]
  },
  {
   "cell_type": "code",
   "execution_count": 16,
   "metadata": {},
   "outputs": [],
   "source": [
    "det_gij = g00 * d1 - g01 * d2 + g02 * d3"
   ]
  },
  {
   "cell_type": "code",
   "execution_count": 17,
   "metadata": {},
   "outputs": [
    {
     "data": {
      "text/latex": [
       "$\\displaystyle \\frac{1.0 y \\left(- M^{2} x^{2} y^{2} \\left(M - \\left(x^{2} + y^{2}\\right)^{0.5}\\right) \\left(x^{2} + y^{2}\\right)^{3.0} \\left(M \\left(x^{2} + y^{2}\\right)^{1.0} - \\left(x^{2} + y^{2}\\right)^{1.5}\\right) + \\left(M \\left(x^{2} + y^{2}\\right)^{1.5} - \\left(x^{2} + y^{2}\\right)^{2.0}\\right)^{2} \\cdot \\left(1.0 x^{2} \\left(x^{2} + y^{2}\\right)^{1.0} + y^{2} \\left(- M + \\left(x^{2} + y^{2}\\right)^{0.5}\\right) \\left(x^{2} + y^{2}\\right)^{0.5}\\right) \\left(- M x^{2} \\left(x^{2} + y^{2}\\right)^{0.5} + x^{2} \\left(x^{2} + y^{2}\\right)^{1.0} + y^{2} \\left(x^{2} + y^{2}\\right)^{1.0}\\right)\\right)}{\\left(M - \\left(x^{2} + y^{2}\\right)^{0.5}\\right) \\left(x^{2} + y^{2}\\right)^{1.5} \\left(M \\left(x^{2} + y^{2}\\right)^{1.0} - \\left(x^{2} + y^{2}\\right)^{1.5}\\right) \\left(M \\left(x^{2} + y^{2}\\right)^{1.5} - \\left(x^{2} + y^{2}\\right)^{2.0}\\right)^{2}}$"
      ],
      "text/plain": [
       "1.0*y*(-M**2*x**2*y**2*(M - (x**2 + y**2)**0.5)*(x**2 + y**2)**3.0*(M*(x**2 + y**2)**1.0 - (x**2 + y**2)**1.5) + (M*(x**2 + y**2)**1.5 - (x**2 + y**2)**2.0)**2*(1.0*x**2*(x**2 + y**2)**1.0 + y**2*(-M + (x**2 + y**2)**0.5)*(x**2 + y**2)**0.5)*(-M*x**2*(x**2 + y**2)**0.5 + x**2*(x**2 + y**2)**1.0 + y**2*(x**2 + y**2)**1.0))/((M - (x**2 + y**2)**0.5)*(x**2 + y**2)**1.5*(M*(x**2 + y**2)**1.0 - (x**2 + y**2)**1.5)*(M*(x**2 + y**2)**1.5 - (x**2 + y**2)**2.0)**2)"
      ]
     },
     "execution_count": 17,
     "metadata": {},
     "output_type": "execute_result"
    }
   ],
   "source": [
    "sp.simplify(det_gij)"
   ]
  },
  {
   "cell_type": "code",
   "execution_count": 18,
   "metadata": {},
   "outputs": [],
   "source": [
    "Eij = (det_gij**2)*gij"
   ]
  },
  {
   "cell_type": "code",
   "execution_count": 19,
   "metadata": {},
   "outputs": [],
   "source": [
    "Eij_to_eval = Eij.subs(M, '(1)')\n",
    "Eij_to_eval = Eij_to_eval.subs(x, '(xg)')\n",
    "Eij_to_eval = Eij_to_eval.subs(y, '(xg)')\n",
    "Eij_to_eval = Eij_to_eval.subs(z, '(0)')"
   ]
  },
  {
   "cell_type": "code",
   "execution_count": 20,
   "metadata": {},
   "outputs": [],
   "source": [
    "import numpy as np\n",
    "\n",
    "grid = np.linspace(-1,1,400)\n",
    "xg, yg = np.meshgrid(grid, grid)"
   ]
  },
  {
   "cell_type": "code",
   "execution_count": 21,
   "metadata": {},
   "outputs": [],
   "source": [
    "\n",
    "\n",
    "E = []\n",
    "\n",
    "for i in range(3):\n",
    "    for j in range(3):\n",
    "        E.append(eval(str(Eij_to_eval[i,i])))"
   ]
  },
  {
   "cell_type": "code",
   "execution_count": 22,
   "metadata": {},
   "outputs": [],
   "source": [
    "import matplotlib.pyplot as plt"
   ]
  },
  {
   "cell_type": "code",
   "execution_count": 23,
   "metadata": {},
   "outputs": [
    {
     "data": {
      "image/png": "[encoded data removed]",
      "text/plain": [
       "<Figure size 1200x1200 with 9 Axes>"
      ]
     },
     "metadata": {},
     "output_type": "display_data"
    }
   ],
   "source": [
    "fig = plt.figure(figsize = (12,12))\n",
    "\n",
    "for i in range(9):\n",
    "    ax = fig.add_subplot(3,3,i+1)\n",
    "    ax.set_aspect('equal')\n",
    "    ax.contourf(xg, yg, E[i])"
   ]
  },
  {
   "cell_type": "code",
   "execution_count": null,
   "metadata": {},
   "outputs": [],
   "source": []
  }
 ],
 "metadata": {
  "kernelspec": {
   "display_name": "Python 3",
   "language": "python",
   "name": "python3"
  },
  "language_info": {
   "codemirror_mode": {
    "name": "ipython",
    "version": 3
   },
   "file_extension": ".py",
   "mimetype": "text/x-python",
   "name": "python",
   "nbconvert_exporter": "python",
   "pygments_lexer": "ipython3",
   "version": "3.10.5"
  },
  "orig_nbformat": 4
 },
 "nbformat": 4,
 "nbformat_minor": 2
}
